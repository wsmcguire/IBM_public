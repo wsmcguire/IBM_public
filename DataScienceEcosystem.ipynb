{
 "cells": [
  {
   "cell_type": "markdown",
   "id": "4dac672c-1871-48b7-b092-a3a4693c32d8",
   "metadata": {},
   "source": [
    "# Data Science Tools and Ecosystem"
   ]
  },
  {
   "cell_type": "markdown",
   "id": "1cba6e4e-270d-4717-b5b2-7af66f286e3c",
   "metadata": {},
   "source": [
    "## Author\n",
    "William McGuire"
   ]
  },
  {
   "cell_type": "markdown",
   "id": "e605a4a3-c89d-4642-a260-3ee7b22b4ced",
   "metadata": {},
   "source": [
    "In this notebook, Data Science Tools and Ecosystem are summarized."
   ]
  },
  {
   "cell_type": "markdown",
   "id": "4ebd1214-5fae-437b-9ad7-9f25dafa8184",
   "metadata": {},
   "source": [
    "__Objectives:__\n",
    "+ List of popular languages in Data Science\n",
    "+ List of common libraries in Data Science\n",
    "+ Table of Data Science tools"
   ]
  },
  {
   "cell_type": "markdown",
   "id": "1174d6a1-7f36-450e-bc0a-10d72011ab9f",
   "metadata": {},
   "source": [
    "Some of the popular languages that Data Scientists use are:\n",
    "1. Python\n",
    "2. R\n",
    "3. C++\n",
    "4. Scala"
   ]
  },
  {
   "cell_type": "markdown",
   "id": "3135256e-1fe0-4ff7-a9a9-bbf68a48f558",
   "metadata": {},
   "source": [
    "Some of the commonly used libraries used by Data Scientists include:\n",
    "1. Pandas\n",
    "2. Matplotlib\n",
    "3. TensorFlow"
   ]
  },
  {
   "cell_type": "markdown",
   "id": "07f365c8-f5c2-4448-8705-074885b38d64",
   "metadata": {},
   "source": [
    "| Data Science Tools |\n",
    "| ------------------ |\n",
    "| RStudio |\n",
    "| Apache Spark |\n",
    "| Spyder |"
   ]
  },
  {
   "cell_type": "markdown",
   "id": "a779f0e2-27af-4470-9472-46004c6fed16",
   "metadata": {},
   "source": [
    "### Below are a few examples of evaluating arithmetic expressions in Python\n",
    "x = 10, y = 20\n",
    "\n",
    "add = x + y\n",
    "\n",
    "sub = y - x\n",
    "\n",
    "mult = x * y\n",
    "\n",
    "div = y / x\n"
   ]
  },
  {
   "cell_type": "code",
   "execution_count": 2,
   "id": "19587dd0-54b1-4a72-b859-43a164fa8058",
   "metadata": {},
   "outputs": [
    {
     "data": {
      "text/plain": [
       "17"
      ]
     },
     "execution_count": 2,
     "metadata": {},
     "output_type": "execute_result"
    }
   ],
   "source": [
    "# This a simple arithmetic expression to mutiply then add integers\n",
    "(3*4) + 5"
   ]
  },
  {
   "cell_type": "code",
   "execution_count": 7,
   "id": "f4c7e34a-e5f7-46fa-93eb-80b261358e4d",
   "metadata": {},
   "outputs": [
    {
     "data": {
      "text/plain": [
       "3.3333333333333335"
      ]
     },
     "execution_count": 7,
     "metadata": {},
     "output_type": "execute_result"
    }
   ],
   "source": [
    "# This will convert 200 minutes to hours by diving by 60\n",
    "200 / 60"
   ]
  }
 ],
 "metadata": {
  "kernelspec": {
   "display_name": "Python 3 (ipykernel)",
   "language": "python",
   "name": "python3"
  },
  "language_info": {
   "codemirror_mode": {
    "name": "ipython",
    "version": 3
   },
   "file_extension": ".py",
   "mimetype": "text/x-python",
   "name": "python",
   "nbconvert_exporter": "python",
   "pygments_lexer": "ipython3",
   "version": "3.12.4"
  }
 },
 "nbformat": 4,
 "nbformat_minor": 5
}
